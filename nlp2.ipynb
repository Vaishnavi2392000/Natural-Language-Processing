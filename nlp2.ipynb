{
  "nbformat": 4,
  "nbformat_minor": 0,
  "metadata": {
    "colab": {
      "name": "Untitled2.ipynb",
      "provenance": [],
      "collapsed_sections": []
    },
    "kernelspec": {
      "name": "python3",
      "display_name": "Python 3"
    }
  },
  "cells": [
    {
      "cell_type": "code",
      "metadata": {
        "id": "tI4xHu_UvAkR",
        "colab_type": "code",
        "colab": {}
      },
      "source": [
        "import nltk"
      ],
      "execution_count": 1,
      "outputs": []
    },
    {
      "cell_type": "markdown",
      "metadata": {
        "id": "oSbmemoFvdRm",
        "colab_type": "text"
      },
      "source": [
        "#Stemming and lammatization"
      ]
    },
    {
      "cell_type": "code",
      "metadata": {
        "id": "imvhJKHBvi7V",
        "colab_type": "code",
        "colab": {}
      },
      "source": [
        "paragraph=\"\"\" \n",
        "After Lincoln's election, many Southern states, fearing Republican control in the government, seceded from the Union. Lincoln faced the greatest internal crisis of any U.S. president. After the fall of Ft. Sumter, Lincoln raised an army and decided to fight to save the Union from falling apart. Despite enormous pressures, loss of life, battlefield setbacks, generals who weren't ready to fight, assassination threats, etc., Lincoln stuck with this pro-Union policy for four long years of Civil War. On Jan. 1, 1863, the Emancipation Proclamation went into effect. This was Lincoln's declaration of freedom for all slaves in the areas of the Confederacy not under Union control.\n",
        "\n",
        "On Good Friday, April 14, 1865, the Lincolns attended a play entitled Our American Cousin at Ford's Theater. During the performance, John Wilkes Booth arrived at the theater, entered the State Box from the rear, and shot the president in the back of his head at about 10:15 P.M. Lincoln was carried across the street to the Petersen House where he passed away the next day at 7:22 A.M. This was the first presidential assassination in American history, and the nation mourned the loss of its leader. His death was the result of the deep divisions and hatreds of the times. Lincoln's body was taken to Springfield by train, and he was buried in the Lincoln Tomb in Oak Ridge Cemetery on May 4, 1865. Because of the assassination, Reconstruction took place without Lincoln's guidance and leadership.\n",
        "Abraham Lincoln is remembered for his vital role as the leader in preserving the Union during the Civil War and beginning the process that led to the end of slavery in the United States. He is also remembered for his character, his speeches and letters, and as a man of humble origins whose determination and perseverance led him to the nation's highest office\"\"\""
      ],
      "execution_count": 5,
      "outputs": []
    },
    {
      "cell_type": "code",
      "metadata": {
        "id": "GiC6wGD_xSwM",
        "colab_type": "code",
        "colab": {
          "base_uri": "https://localhost:8080/",
          "height": 154
        },
        "outputId": "8b133da8-73ea-4f7d-ecbe-f8f2adc450dd"
      },
      "source": [
        "paragraph"
      ],
      "execution_count": 6,
      "outputs": [
        {
          "output_type": "execute_result",
          "data": {
            "application/vnd.google.colaboratory.intrinsic+json": {
              "type": "string"
            },
            "text/plain": [
              "\" \\nAfter Lincoln's election, many Southern states, fearing Republican control in the government, seceded from the Union. Lincoln faced the greatest internal crisis of any U.S. president. After the fall of Ft. Sumter, Lincoln raised an army and decided to fight to save the Union from falling apart. Despite enormous pressures, loss of life, battlefield setbacks, generals who weren't ready to fight, assassination threats, etc., Lincoln stuck with this pro-Union policy for four long years of Civil War. On Jan. 1, 1863, the Emancipation Proclamation went into effect. This was Lincoln's declaration of freedom for all slaves in the areas of the Confederacy not under Union control.\\n\\nOn Good Friday, April 14, 1865, the Lincolns attended a play entitled Our American Cousin at Ford's Theater. During the performance, John Wilkes Booth arrived at the theater, entered the State Box from the rear, and shot the president in the back of his head at about 10:15 P.M. Lincoln was carried across the street to the Petersen House where he passed away the next day at 7:22 A.M. This was the first presidential assassination in American history, and the nation mourned the loss of its leader. His death was the result of the deep divisions and hatreds of the times. Lincoln's body was taken to Springfield by train, and he was buried in the Lincoln Tomb in Oak Ridge Cemetery on May 4, 1865. Because of the assassination, Reconstruction took place without Lincoln's guidance and leadership.\\nAbraham Lincoln is remembered for his vital role as the leader in preserving the Union during the Civil War and beginning the process that led to the end of slavery in the United States. He is also remembered for his character, his speeches and letters, and as a man of humble origins whose determination and perseverance led him to the nation's highest office\""
            ]
          },
          "metadata": {
            "tags": []
          },
          "execution_count": 6
        }
      ]
    },
    {
      "cell_type": "code",
      "metadata": {
        "id": "ftuQQ8WoyDmv",
        "colab_type": "code",
        "colab": {}
      },
      "source": [
        "#stemming"
      ],
      "execution_count": 7,
      "outputs": []
    },
    {
      "cell_type": "code",
      "metadata": {
        "id": "5ncPzlXZyLYQ",
        "colab_type": "code",
        "colab": {}
      },
      "source": [
        "from nltk.stem import PorterStemmer\n",
        "from nltk.corpus import stopwords"
      ],
      "execution_count": 8,
      "outputs": []
    },
    {
      "cell_type": "code",
      "metadata": {
        "id": "9o68acN7zcOx",
        "colab_type": "code",
        "colab": {
          "base_uri": "https://localhost:8080/",
          "height": 68
        },
        "outputId": "1a6e1355-74d1-4607-923f-7b1781a448ab"
      },
      "source": [
        "nltk.download('punkt')"
      ],
      "execution_count": 12,
      "outputs": [
        {
          "output_type": "stream",
          "text": [
            "[nltk_data] Downloading package punkt to /root/nltk_data...\n",
            "[nltk_data]   Unzipping tokenizers/punkt.zip.\n"
          ],
          "name": "stdout"
        },
        {
          "output_type": "execute_result",
          "data": {
            "text/plain": [
              "True"
            ]
          },
          "metadata": {
            "tags": []
          },
          "execution_count": 12
        }
      ]
    },
    {
      "cell_type": "code",
      "metadata": {
        "id": "QFM3LzvW0Fg-",
        "colab_type": "code",
        "colab": {}
      },
      "source": [
        "#conert paragraph into sentences\n",
        "sentences = nltk.sent_tokenize(paragraph)"
      ],
      "execution_count": 13,
      "outputs": []
    },
    {
      "cell_type": "code",
      "metadata": {
        "id": "Hbng6H8U0Jd7",
        "colab_type": "code",
        "colab": {
          "base_uri": "https://localhost:8080/",
          "height": 275
        },
        "outputId": "36165572-12f4-4935-af23-9faed5450a7d"
      },
      "source": [
        "sentences"
      ],
      "execution_count": 14,
      "outputs": [
        {
          "output_type": "execute_result",
          "data": {
            "text/plain": [
              "[\" \\nAfter Lincoln's election, many Southern states, fearing Republican control in the government, seceded from the Union.\",\n",
              " 'Lincoln faced the greatest internal crisis of any U.S. president.',\n",
              " 'After the fall of Ft. Sumter, Lincoln raised an army and decided to fight to save the Union from falling apart.',\n",
              " \"Despite enormous pressures, loss of life, battlefield setbacks, generals who weren't ready to fight, assassination threats, etc., Lincoln stuck with this pro-Union policy for four long years of Civil War.\",\n",
              " 'On Jan. 1, 1863, the Emancipation Proclamation went into effect.',\n",
              " \"This was Lincoln's declaration of freedom for all slaves in the areas of the Confederacy not under Union control.\",\n",
              " \"On Good Friday, April 14, 1865, the Lincolns attended a play entitled Our American Cousin at Ford's Theater.\",\n",
              " 'During the performance, John Wilkes Booth arrived at the theater, entered the State Box from the rear, and shot the president in the back of his head at about 10:15 P.M. Lincoln was carried across the street to the Petersen House where he passed away the next day at 7:22 A.M.',\n",
              " 'This was the first presidential assassination in American history, and the nation mourned the loss of its leader.',\n",
              " 'His death was the result of the deep divisions and hatreds of the times.',\n",
              " \"Lincoln's body was taken to Springfield by train, and he was buried in the Lincoln Tomb in Oak Ridge Cemetery on May 4, 1865.\",\n",
              " \"Because of the assassination, Reconstruction took place without Lincoln's guidance and leadership.\",\n",
              " 'Abraham Lincoln is remembered for his vital role as the leader in preserving the Union during the Civil War and beginning the process that led to the end of slavery in the United States.',\n",
              " \"He is also remembered for his character, his speeches and letters, and as a man of humble origins whose determination and perseverance led him to the nation's highest office\"]"
            ]
          },
          "metadata": {
            "tags": []
          },
          "execution_count": 14
        }
      ]
    },
    {
      "cell_type": "code",
      "metadata": {
        "id": "kdBcaKUI0LR6",
        "colab_type": "code",
        "colab": {}
      },
      "source": [
        "stemmer=PorterStemmer()"
      ],
      "execution_count": 15,
      "outputs": []
    },
    {
      "cell_type": "code",
      "metadata": {
        "id": "ZiPxBI3S0p2D",
        "colab_type": "code",
        "colab": {}
      },
      "source": [
        "#stemming"
      ],
      "execution_count": 16,
      "outputs": []
    },
    {
      "cell_type": "code",
      "metadata": {
        "id": "kEVOqtrR2cYz",
        "colab_type": "code",
        "colab": {
          "base_uri": "https://localhost:8080/",
          "height": 68
        },
        "outputId": "f953e189-872b-4350-d89f-42d187653f22"
      },
      "source": [
        "nltk.download('stopwords')"
      ],
      "execution_count": 20,
      "outputs": [
        {
          "output_type": "stream",
          "text": [
            "[nltk_data] Downloading package stopwords to /root/nltk_data...\n",
            "[nltk_data]   Unzipping corpora/stopwords.zip.\n"
          ],
          "name": "stdout"
        },
        {
          "output_type": "execute_result",
          "data": {
            "text/plain": [
              "True"
            ]
          },
          "metadata": {
            "tags": []
          },
          "execution_count": 20
        }
      ]
    },
    {
      "cell_type": "code",
      "metadata": {
        "id": "ijvtZ6Zl2kVf",
        "colab_type": "code",
        "colab": {}
      },
      "source": [
        "for i in  range(len(sentences)):\n",
        "\n",
        "  #convert sentences into words\n",
        "  words=nltk.word_tokenize(sentences[i])\n",
        "  words=[stemmer.stem(word) for word in words if word not in set(stopwords.words('english')) ]\n",
        "  sentences[i]=' '.join(words)\n"
      ],
      "execution_count": 22,
      "outputs": []
    },
    {
      "cell_type": "code",
      "metadata": {
        "id": "a9s3woUd2qX1",
        "colab_type": "code",
        "colab": {
          "base_uri": "https://localhost:8080/",
          "height": 275
        },
        "outputId": "89e4f1b6-767f-44f0-c3ba-6ce7511829c5"
      },
      "source": [
        "sentences"
      ],
      "execution_count": 23,
      "outputs": [
        {
          "output_type": "execute_result",
          "data": {
            "text/plain": [
              "[\"after lincoln 's elect , mani southern state , fear republican control govern , seced union .\",\n",
              " 'lincoln face greatest intern crisi u.s. presid .',\n",
              " 'after fall ft. sumter , lincoln rais armi decid fight save union fall apart .',\n",
              " \"despit enorm pressur , loss life , battlefield setback , gener n't readi fight , assassin threat , etc. , lincoln stuck pro-union polici four long year civil war .\",\n",
              " 'On jan. 1 , 1863 , emancip proclam went effect .',\n",
              " \"thi lincoln 's declar freedom slave area confederaci union control .\",\n",
              " \"On good friday , april 14 , 1865 , lincoln attend play entitl our american cousin ford 's theater .\",\n",
              " 'dure perform , john wilk booth arriv theater , enter state box rear , shot presid back head 10:15 p.m. lincoln carri across street petersen hous pass away next day 7:22 a.m .',\n",
              " 'thi first presidenti assassin american histori , nation mourn loss leader .',\n",
              " 'hi death result deep divis hatr time .',\n",
              " \"lincoln 's bodi taken springfield train , buri lincoln tomb oak ridg cemeteri may 4 , 1865 .\",\n",
              " \"becaus assassin , reconstruct took place without lincoln 's guidanc leadership .\",\n",
              " 'abraham lincoln rememb vital role leader preserv union civil war begin process led end slaveri unit state .',\n",
              " \"He also rememb charact , speech letter , man humbl origin whose determin persever led nation 's highest offic\"]"
            ]
          },
          "metadata": {
            "tags": []
          },
          "execution_count": 23
        }
      ]
    },
    {
      "cell_type": "code",
      "metadata": {
        "id": "pKW006qL3JUb",
        "colab_type": "code",
        "colab": {}
      },
      "source": [
        "#lammitization"
      ],
      "execution_count": 24,
      "outputs": []
    },
    {
      "cell_type": "code",
      "metadata": {
        "id": "awkx02li3e9r",
        "colab_type": "code",
        "colab": {}
      },
      "source": [
        "from nltk.stem import WordNetLemmatizer"
      ],
      "execution_count": 25,
      "outputs": []
    },
    {
      "cell_type": "code",
      "metadata": {
        "id": "J5u_5rvj4Yr5",
        "colab_type": "code",
        "colab": {
          "base_uri": "https://localhost:8080/",
          "height": 68
        },
        "outputId": "cc2c369e-842e-4c09-f856-fdf76d89c906"
      },
      "source": [
        " nltk.download('wordnet')"
      ],
      "execution_count": 31,
      "outputs": [
        {
          "output_type": "stream",
          "text": [
            "[nltk_data] Downloading package wordnet to /root/nltk_data...\n",
            "[nltk_data]   Unzipping corpora/wordnet.zip.\n"
          ],
          "name": "stdout"
        },
        {
          "output_type": "execute_result",
          "data": {
            "text/plain": [
              "True"
            ]
          },
          "metadata": {
            "tags": []
          },
          "execution_count": 31
        }
      ]
    },
    {
      "cell_type": "code",
      "metadata": {
        "id": "hZCJJB3d4bhz",
        "colab_type": "code",
        "colab": {}
      },
      "source": [
        "lemmatizer = WordNetLemmatizer()\n",
        "\n",
        "# Lemmatization\n",
        "for i in range(len(sentences)):\n",
        "    words = nltk.word_tokenize(sentences[i])\n",
        "    words = [lemmatizer.lemmatize(word) for word in words if word not in set(stopwords.words('english'))]\n",
        "    sentences[i] = ' '.join(words)      "
      ],
      "execution_count": 32,
      "outputs": []
    },
    {
      "cell_type": "code",
      "metadata": {
        "id": "n0o81o3N4gL8",
        "colab_type": "code",
        "colab": {
          "base_uri": "https://localhost:8080/",
          "height": 275
        },
        "outputId": "c2212c46-f7b5-4e7b-ee3a-c5aab871b6af"
      },
      "source": [
        "sentences"
      ],
      "execution_count": 33,
      "outputs": [
        {
          "output_type": "execute_result",
          "data": {
            "text/plain": [
              "[\"lincoln 's elect , mani southern state , fear republican control govern , seced union .\",\n",
              " 'lincoln face greatest intern crisi u.s. presid .',\n",
              " 'fall ft. sumter , lincoln rais armi decid fight save union fall apart .',\n",
              " \"despit enorm pressur , loss life , battlefield setback , gener n't readi fight , assassin threat , etc . , lincoln stuck pro-union polici four long year civil war .\",\n",
              " 'On jan. 1 , 1863 , emancip proclam went effect .',\n",
              " \"thi lincoln 's declar freedom slave area confederaci union control .\",\n",
              " \"On good friday , april 14 , 1865 , lincoln attend play entitl american cousin ford 's theater .\",\n",
              " 'dure perform , john wilk booth arriv theater , enter state box rear , shot presid back head 10:15 p.m. lincoln carri across street petersen hous pas away next day 7:22 a.m .',\n",
              " 'thi first presidenti assassin american histori , nation mourn loss leader .',\n",
              " 'hi death result deep divis hatr time .',\n",
              " \"lincoln 's bodi taken springfield train , buri lincoln tomb oak ridg cemeteri may 4 , 1865 .\",\n",
              " \"becaus assassin , reconstruct took place without lincoln 's guidanc leadership .\",\n",
              " 'abraham lincoln rememb vital role leader preserv union civil war begin process led end slaveri unit state .',\n",
              " \"He also rememb charact , speech letter , man humbl origin whose determin persever led nation 's highest offic\"]"
            ]
          },
          "metadata": {
            "tags": []
          },
          "execution_count": 33
        }
      ]
    },
    {
      "cell_type": "code",
      "metadata": {
        "id": "xJdgCy_T4i63",
        "colab_type": "code",
        "colab": {}
      },
      "source": [
        ""
      ],
      "execution_count": null,
      "outputs": []
    }
  ]
}