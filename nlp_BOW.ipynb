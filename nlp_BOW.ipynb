{
  "nbformat": 4,
  "nbformat_minor": 0,
  "metadata": {
    "colab": {
      "name": "Untitled3.ipynb",
      "provenance": [],
      "collapsed_sections": []
    },
    "kernelspec": {
      "name": "python3",
      "display_name": "Python 3"
    }
  },
  "cells": [
    {
      "cell_type": "code",
      "metadata": {
        "id": "6He0MeMNPS34",
        "colab_type": "code",
        "colab": {}
      },
      "source": [
        "import nltk\n",
        "import re\n",
        "from nltk.corpus import stopwords\n",
        "from nltk.stem.porter import PorterStemmer\n",
        "from nltk.stem import WordNetLemmatizer"
      ],
      "execution_count": 22,
      "outputs": []
    },
    {
      "cell_type": "code",
      "metadata": {
        "id": "auyndcIiPcnk",
        "colab_type": "code",
        "colab": {}
      },
      "source": [
        "pr=PorterStemmer()\n",
        "wordnet=WordNetLemmatizer()"
      ],
      "execution_count": 23,
      "outputs": []
    },
    {
      "cell_type": "code",
      "metadata": {
        "id": "fExmVKdJQHgL",
        "colab_type": "code",
        "colab": {}
      },
      "source": [
        "paragraph=\"\"\" \n",
        "Sarcasm, wit and passion combined with humour are what made poet-Prime Minister Atal Bihari Vajpayee a master orator. Often commended for his ability to stump his critics, the former Prime Minister who was battling for his life at All India Institute of Medical Sciences (AIIMS), is no more in this world. However, his personality will be cherished for long. Whenever India and Indian politics will be discussed, Atal Bihari Vajpayee’s name will be written in Golden words. For a long time, Vajpayee was regarded as the best PM that India never had till it changed in 1996. He will be the ‘Ratna’ of every Bharatiya, as common people call him.\n",
        "\n",
        "Today, he is even admired by those who stand opposed to the Bharatiya Janata Party and its ideology, including Congress president Rahul Gandhi. In fact, Rahul Gandhi was one of the first to visit Vajpayee when he was admitted to AIIMS on June 11. “We had contested against Vajpayee ji, but when he is ill now I went to meet him on priority because I am a soldier of Congress. Vajpayee ji had worked for our country and we respect him as he was the PM,” Rahul had said.\"\"\"\n"
      ],
      "execution_count": 24,
      "outputs": []
    },
    {
      "cell_type": "code",
      "metadata": {
        "id": "YlVgRQv_Qiax",
        "colab_type": "code",
        "colab": {
          "base_uri": "https://localhost:8080/",
          "height": 154
        },
        "outputId": "85a9d797-27f7-4c84-d8e4-d7220cd75eb2"
      },
      "source": [
        "paragraph"
      ],
      "execution_count": 25,
      "outputs": [
        {
          "output_type": "execute_result",
          "data": {
            "application/vnd.google.colaboratory.intrinsic+json": {
              "type": "string"
            },
            "text/plain": [
              "' \\nSarcasm, wit and passion combined with humour are what made poet-Prime Minister Atal Bihari Vajpayee a master orator. Often commended for his ability to stump his critics, the former Prime Minister who was battling for his life at All India Institute of Medical Sciences (AIIMS), is no more in this world. However, his personality will be cherished for long. Whenever India and Indian politics will be discussed, Atal Bihari Vajpayee’s name will be written in Golden words. For a long time, Vajpayee was regarded as the best PM that India never had till it changed in 1996. He will be the ‘Ratna’ of every Bharatiya, as common people call him.\\n\\nToday, he is even admired by those who stand opposed to the Bharatiya Janata Party and its ideology, including Congress president Rahul Gandhi. In fact, Rahul Gandhi was one of the first to visit Vajpayee when he was admitted to AIIMS on June 11. “We had contested against Vajpayee ji, but when he is ill now I went to meet him on priority because I am a soldier of Congress. Vajpayee ji had worked for our country and we respect him as he was the PM,” Rahul had said.'"
            ]
          },
          "metadata": {
            "tags": []
          },
          "execution_count": 25
        }
      ]
    },
    {
      "cell_type": "code",
      "metadata": {
        "id": "8hTh8QHnQ14k",
        "colab_type": "code",
        "colab": {
          "base_uri": "https://localhost:8080/",
          "height": 68
        },
        "outputId": "576d0840-d40e-4934-e8d5-ed57331fd27d"
      },
      "source": [
        "nltk.download('punkt')"
      ],
      "execution_count": 26,
      "outputs": [
        {
          "output_type": "stream",
          "text": [
            "[nltk_data] Downloading package punkt to /root/nltk_data...\n",
            "[nltk_data]   Package punkt is already up-to-date!\n"
          ],
          "name": "stdout"
        },
        {
          "output_type": "execute_result",
          "data": {
            "text/plain": [
              "True"
            ]
          },
          "metadata": {
            "tags": []
          },
          "execution_count": 26
        }
      ]
    },
    {
      "cell_type": "code",
      "metadata": {
        "id": "xG78qQcVQlG7",
        "colab_type": "code",
        "colab": {
          "base_uri": "https://localhost:8080/",
          "height": 207
        },
        "outputId": "55cff8ca-a566-43ce-9b10-cb03c9434c39"
      },
      "source": [
        "#convert paragraph into senetence\n",
        "senetence=nltk.sent_tokenize(paragraph)\n",
        "senetence"
      ],
      "execution_count": 27,
      "outputs": [
        {
          "output_type": "execute_result",
          "data": {
            "text/plain": [
              "[' \\nSarcasm, wit and passion combined with humour are what made poet-Prime Minister Atal Bihari Vajpayee a master orator.',\n",
              " 'Often commended for his ability to stump his critics, the former Prime Minister who was battling for his life at All India Institute of Medical Sciences (AIIMS), is no more in this world.',\n",
              " 'However, his personality will be cherished for long.',\n",
              " 'Whenever India and Indian politics will be discussed, Atal Bihari Vajpayee’s name will be written in Golden words.',\n",
              " 'For a long time, Vajpayee was regarded as the best PM that India never had till it changed in 1996.',\n",
              " 'He will be the ‘Ratna’ of every Bharatiya, as common people call him.',\n",
              " 'Today, he is even admired by those who stand opposed to the Bharatiya Janata Party and its ideology, including Congress president Rahul Gandhi.',\n",
              " 'In fact, Rahul Gandhi was one of the first to visit Vajpayee when he was admitted to AIIMS on June 11.',\n",
              " '“We had contested against Vajpayee ji, but when he is ill now I went to meet him on priority because I am a soldier of Congress.',\n",
              " 'Vajpayee ji had worked for our country and we respect him as he was the PM,” Rahul had said.']"
            ]
          },
          "metadata": {
            "tags": []
          },
          "execution_count": 27
        }
      ]
    },
    {
      "cell_type": "code",
      "metadata": {
        "id": "jSht_7cmSi-G",
        "colab_type": "code",
        "colab": {
          "base_uri": "https://localhost:8080/",
          "height": 68
        },
        "outputId": "c582f5cb-ec70-41c3-dcfc-30df6a4611c5"
      },
      "source": [
        "nltk.download('stopwords')"
      ],
      "execution_count": 28,
      "outputs": [
        {
          "output_type": "stream",
          "text": [
            "[nltk_data] Downloading package stopwords to /root/nltk_data...\n",
            "[nltk_data]   Package stopwords is already up-to-date!\n"
          ],
          "name": "stdout"
        },
        {
          "output_type": "execute_result",
          "data": {
            "text/plain": [
              "True"
            ]
          },
          "metadata": {
            "tags": []
          },
          "execution_count": 28
        }
      ]
    },
    {
      "cell_type": "code",
      "metadata": {
        "id": "D7_RsJhBUh2x",
        "colab_type": "code",
        "colab": {
          "base_uri": "https://localhost:8080/",
          "height": 68
        },
        "outputId": "520e3133-4ab2-44fa-912a-e6b02a82832f"
      },
      "source": [
        "nltk.download('wordnet')"
      ],
      "execution_count": 42,
      "outputs": [
        {
          "output_type": "stream",
          "text": [
            "[nltk_data] Downloading package wordnet to /root/nltk_data...\n",
            "[nltk_data]   Unzipping corpora/wordnet.zip.\n"
          ],
          "name": "stdout"
        },
        {
          "output_type": "execute_result",
          "data": {
            "text/plain": [
              "True"
            ]
          },
          "metadata": {
            "tags": []
          },
          "execution_count": 42
        }
      ]
    },
    {
      "cell_type": "code",
      "metadata": {
        "id": "iNVc7ZuNQyBn",
        "colab_type": "code",
        "colab": {}
      },
      "source": [
        "#text cleaning\n",
        "corpus=[]\n",
        "for i in range(len(senetence)):\n",
        "  review = re.sub('[^a-zA-Z]', ' ', senetence[i])\n",
        "  review=review.lower()\n",
        "  review=review.split()\n",
        "  review=[wordnet.lemmatize(word) for word in review if not word in set(stopwords.words('english'))]\n",
        "  review=' '.join(review)\n",
        "  corpus.append(review)\n"
      ],
      "execution_count": 44,
      "outputs": []
    },
    {
      "cell_type": "code",
      "metadata": {
        "id": "tuQhnn0cSa6Z",
        "colab_type": "code",
        "colab": {
          "base_uri": "https://localhost:8080/",
          "height": 187
        },
        "outputId": "64510e49-c448-4b40-a039-40218eaf1c2e"
      },
      "source": [
        "corpus"
      ],
      "execution_count": 45,
      "outputs": [
        {
          "output_type": "execute_result",
          "data": {
            "text/plain": [
              "['sarcasm wit passion combined humour made poet prime minister atal bihari vajpayee master orator',\n",
              " 'often commended ability stump critic former prime minister battling life india institute medical science aiims world',\n",
              " 'however personality cherished long',\n",
              " 'whenever india indian politics discussed atal bihari vajpayee name written golden word',\n",
              " 'long time vajpayee regarded best pm india never till changed',\n",
              " 'ratna every bharatiya common people call',\n",
              " 'today even admired stand opposed bharatiya janata party ideology including congress president rahul gandhi',\n",
              " 'fact rahul gandhi one first visit vajpayee admitted aiims june',\n",
              " 'contested vajpayee ji ill went meet priority soldier congress',\n",
              " 'vajpayee ji worked country respect pm rahul said']"
            ]
          },
          "metadata": {
            "tags": []
          },
          "execution_count": 45
        }
      ]
    },
    {
      "cell_type": "code",
      "metadata": {
        "id": "f1mIoLNGSmvT",
        "colab_type": "code",
        "colab": {}
      },
      "source": [
        "#create bag of words"
      ],
      "execution_count": 37,
      "outputs": []
    },
    {
      "cell_type": "code",
      "metadata": {
        "id": "ZrckFULjSs-M",
        "colab_type": "code",
        "colab": {}
      },
      "source": [
        "from sklearn.feature_extraction.text import CountVectorizer"
      ],
      "execution_count": 46,
      "outputs": []
    },
    {
      "cell_type": "code",
      "metadata": {
        "id": "xFpx0X1WSzDa",
        "colab_type": "code",
        "colab": {}
      },
      "source": [
        "cv=CountVectorizer(max_features=150)\n",
        "X=cv.fit_transform(corpus).toarray()"
      ],
      "execution_count": 39,
      "outputs": []
    },
    {
      "cell_type": "code",
      "metadata": {
        "id": "YsGHeyqeTNBV",
        "colab_type": "code",
        "colab": {
          "base_uri": "https://localhost:8080/",
          "height": 697
        },
        "outputId": "659c68b3-9392-48f6-cdf9-56d0f471c3d6"
      },
      "source": [
        "X"
      ],
      "execution_count": 40,
      "outputs": [
        {
          "output_type": "execute_result",
          "data": {
            "text/plain": [
              "array([[0, 0, 0, 0, 1, 0, 0, 0, 1, 0, 0, 0, 1, 0, 0, 0, 0, 0, 0, 0, 0, 0,\n",
              "        0, 0, 0, 0, 0, 0, 1, 0, 0, 0, 0, 0, 0, 0, 0, 0, 0, 0, 1, 1, 0, 0,\n",
              "        1, 0, 0, 0, 0, 0, 1, 0, 1, 0, 0, 0, 1, 0, 0, 1, 0, 0, 0, 0, 0, 0,\n",
              "        1, 0, 0, 0, 0, 0, 0, 0, 1, 0, 0, 0, 1, 0, 0, 0, 0],\n",
              "       [1, 0, 0, 1, 0, 1, 0, 0, 0, 0, 0, 0, 0, 1, 0, 0, 0, 0, 1, 0, 0, 0,\n",
              "        0, 0, 1, 0, 0, 0, 0, 0, 0, 0, 1, 0, 1, 0, 0, 0, 1, 0, 0, 0, 1, 0,\n",
              "        1, 0, 0, 1, 0, 0, 0, 0, 0, 0, 0, 0, 0, 0, 0, 1, 0, 0, 0, 0, 0, 0,\n",
              "        0, 1, 0, 0, 1, 0, 0, 0, 0, 0, 0, 0, 0, 0, 0, 1, 0],\n",
              "       [0, 0, 0, 0, 0, 0, 0, 0, 0, 0, 0, 1, 0, 0, 0, 0, 0, 0, 0, 0, 0, 0,\n",
              "        0, 0, 0, 0, 0, 1, 0, 0, 0, 0, 0, 0, 0, 0, 0, 0, 0, 1, 0, 0, 0, 0,\n",
              "        0, 0, 0, 0, 0, 0, 0, 0, 0, 0, 1, 0, 0, 0, 0, 0, 0, 0, 0, 0, 0, 0,\n",
              "        0, 0, 0, 0, 0, 0, 0, 0, 0, 0, 0, 0, 0, 0, 0, 0, 0],\n",
              "       [0, 0, 0, 0, 1, 0, 0, 0, 1, 0, 0, 0, 0, 0, 0, 0, 0, 0, 0, 1, 0, 0,\n",
              "        0, 0, 0, 0, 1, 0, 0, 0, 0, 0, 1, 1, 0, 0, 0, 0, 0, 0, 0, 0, 0, 0,\n",
              "        0, 1, 0, 0, 0, 0, 0, 0, 0, 0, 0, 0, 0, 1, 0, 0, 0, 0, 0, 0, 0, 0,\n",
              "        0, 0, 0, 0, 0, 0, 0, 0, 1, 0, 0, 1, 0, 1, 0, 0, 1],\n",
              "       [0, 0, 0, 0, 0, 0, 1, 0, 0, 0, 1, 0, 0, 0, 0, 0, 0, 0, 0, 0, 0, 0,\n",
              "        0, 0, 0, 0, 0, 0, 0, 0, 0, 0, 1, 0, 0, 0, 0, 0, 0, 1, 0, 0, 0, 0,\n",
              "        0, 0, 1, 0, 0, 0, 0, 0, 0, 0, 0, 1, 0, 0, 0, 0, 0, 0, 0, 1, 0, 0,\n",
              "        0, 0, 0, 0, 0, 1, 1, 0, 1, 0, 0, 0, 0, 0, 0, 0, 0],\n",
              "       [0, 0, 0, 0, 0, 0, 0, 1, 0, 1, 0, 0, 0, 0, 1, 0, 0, 0, 0, 0, 0, 1,\n",
              "        0, 0, 0, 0, 0, 0, 0, 0, 0, 0, 0, 0, 0, 0, 0, 0, 0, 0, 0, 0, 0, 0,\n",
              "        0, 0, 0, 0, 0, 0, 0, 0, 0, 1, 0, 0, 0, 0, 0, 0, 0, 0, 1, 0, 0, 0,\n",
              "        0, 0, 0, 0, 0, 0, 0, 0, 0, 0, 0, 0, 0, 0, 0, 0, 0],\n",
              "       [0, 1, 0, 0, 0, 0, 0, 1, 0, 0, 0, 0, 0, 0, 0, 1, 0, 0, 0, 0, 1, 0,\n",
              "        0, 0, 0, 1, 0, 0, 0, 1, 0, 1, 0, 0, 0, 1, 0, 0, 0, 0, 0, 0, 0, 0,\n",
              "        0, 0, 0, 0, 0, 1, 0, 1, 0, 0, 0, 0, 0, 0, 1, 0, 0, 1, 0, 0, 0, 0,\n",
              "        0, 0, 0, 1, 0, 0, 0, 1, 0, 0, 0, 0, 0, 0, 0, 0, 0],\n",
              "       [0, 0, 1, 1, 0, 0, 0, 0, 0, 0, 0, 0, 0, 0, 0, 0, 0, 0, 0, 0, 0, 0,\n",
              "        1, 1, 0, 1, 0, 0, 0, 0, 0, 0, 0, 0, 0, 0, 0, 1, 0, 0, 0, 0, 0, 0,\n",
              "        0, 0, 0, 0, 1, 0, 0, 0, 0, 0, 0, 0, 0, 0, 0, 0, 0, 1, 0, 0, 0, 0,\n",
              "        0, 0, 0, 0, 0, 0, 0, 0, 1, 1, 0, 0, 0, 0, 0, 0, 0],\n",
              "       [0, 0, 0, 0, 0, 0, 0, 0, 0, 0, 0, 0, 0, 0, 0, 1, 1, 0, 0, 0, 0, 0,\n",
              "        0, 0, 0, 0, 0, 0, 0, 0, 1, 0, 0, 0, 0, 0, 1, 0, 0, 0, 0, 0, 0, 1,\n",
              "        0, 0, 0, 0, 0, 0, 0, 0, 0, 0, 0, 0, 0, 0, 0, 0, 1, 0, 0, 0, 0, 0,\n",
              "        0, 0, 1, 0, 0, 0, 0, 0, 1, 0, 1, 0, 0, 0, 0, 0, 0],\n",
              "       [0, 0, 0, 0, 0, 0, 0, 0, 0, 0, 0, 0, 0, 0, 0, 0, 0, 1, 0, 0, 0, 0,\n",
              "        0, 0, 0, 0, 0, 0, 0, 0, 0, 0, 0, 0, 0, 0, 1, 0, 0, 0, 0, 0, 0, 0,\n",
              "        0, 0, 0, 0, 0, 0, 0, 0, 0, 0, 0, 1, 0, 0, 0, 0, 0, 1, 0, 0, 1, 1,\n",
              "        0, 0, 0, 0, 0, 0, 0, 0, 1, 0, 0, 0, 0, 0, 1, 0, 0]])"
            ]
          },
          "metadata": {
            "tags": []
          },
          "execution_count": 40
        }
      ]
    },
    {
      "cell_type": "code",
      "metadata": {
        "id": "hbUbQF6uT5Xi",
        "colab_type": "code",
        "colab": {}
      },
      "source": [
        ""
      ],
      "execution_count": null,
      "outputs": []
    }
  ]
}